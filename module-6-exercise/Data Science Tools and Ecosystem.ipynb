{
 "cells": [
  {
   "cell_type": "markdown",
   "id": "24bf7d6a-3631-45e8-9d6c-ed1cb292dca2",
   "metadata": {},
   "source": [
    "# Data Science Tools and Ecosystem"
   ]
  },
  {
   "cell_type": "markdown",
   "id": "46c8bcd6-ba72-4768-92dd-c74dd0c2f8f0",
   "metadata": {},
   "source": [
    "#### I am creating a Jupiter Notebook that contains markdown cells. This notebook is about the Data Science Tools and Ecosystem."
   ]
  },
  {
   "cell_type": "markdown",
   "id": "c614ee15-d6d1-429e-9e36-cec296333141",
   "metadata": {},
   "source": [
    "### Some of the popular languages that Data Scientists use are:\n",
    "1. Python\n",
    "2. R\n",
    "3. Java\n",
    "4. Php"
   ]
  },
  {
   "cell_type": "markdown",
   "id": "fcf226f9-00d7-4269-9cbb-28aae458264c",
   "metadata": {},
   "source": [
    "### Some of the commonly used libraries used by Data Scientists include:\n",
    "1. Pandas\n",
    "2. NumPy\n",
    "3. Matplotlib\n",
    "4. Seaborn"
   ]
  },
  {
   "cell_type": "markdown",
   "id": "335cf0bd-768a-48e1-b6f8-cc6eb25cc019",
   "metadata": {},
   "source": [
    "| Data Science Tools |\n",
    "|:--------:|\n",
    "|  Anaconda   |\n",
    "|  Jupyter Notebook   |\n",
    "|  R Studio   |"
   ]
  },
  {
   "cell_type": "markdown",
   "id": "222f6f49-e936-4d11-834b-dc49e348d474",
   "metadata": {},
   "source": [
    "### Below are a few examples of evaluating arithmetic expressions in Python"
   ]
  },
  {
   "cell_type": "code",
   "execution_count": 5,
   "id": "bfa8e536-a849-4baa-bd9d-07cb13c21959",
   "metadata": {},
   "outputs": [
    {
     "data": {
      "text/plain": [
       "17"
      ]
     },
     "execution_count": 5,
     "metadata": {},
     "output_type": "execute_result"
    }
   ],
   "source": [
    "# This a simple arithmetic expression to mutiply then add integers\n",
    "(3*4)+5"
   ]
  },
  {
   "cell_type": "code",
   "execution_count": 7,
   "id": "c04c0ff2-8693-40dc-9ef7-311f0f189ee2",
   "metadata": {},
   "outputs": [
    {
     "data": {
      "text/plain": [
       "3"
      ]
     },
     "execution_count": 7,
     "metadata": {},
     "output_type": "execute_result"
    }
   ],
   "source": [
    "# This will convert 200 minutes to hours by diving by 60\n",
    "200 // 60"
   ]
  },
  {
   "cell_type": "markdown",
   "id": "950f273e-d8ce-4cfa-83dd-ce10d50a6c41",
   "metadata": {},
   "source": [
    "**Objectives:**\n",
    "* List popular languages for Data Science\n",
    "* List of popular tools used for Data Science\n",
    "* List of popular libraries used for Data Science\n",
    "* Arithmetic Operations"
   ]
  },
  {
   "cell_type": "code",
   "execution_count": null,
   "id": "f8b77034-2509-4764-936a-6c4ce1d38ecf",
   "metadata": {},
   "outputs": [],
   "source": []
  }
 ],
 "metadata": {
  "kernelspec": {
   "display_name": "Python 3 (ipykernel)",
   "language": "python",
   "name": "python3"
  },
  "language_info": {
   "codemirror_mode": {
    "name": "ipython",
    "version": 3
   },
   "file_extension": ".py",
   "mimetype": "text/x-python",
   "name": "python",
   "nbconvert_exporter": "python",
   "pygments_lexer": "ipython3",
   "version": "3.12.8"
  }
 },
 "nbformat": 4,
 "nbformat_minor": 5
}
