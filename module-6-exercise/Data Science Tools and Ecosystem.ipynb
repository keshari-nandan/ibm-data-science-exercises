{
 "cells": [
  {
   "cell_type": "markdown",
   "id": "89b59535-264a-4387-8b88-5e27b4a0d41a",
   "metadata": {},
   "source": [
    "# Data Science Tools and Ecosystem"
   ]
  },
  {
   "cell_type": "markdown",
   "id": "6b057013-53ca-4bdd-8ceb-51ab16b96390",
   "metadata": {},
   "source": [
    "#### I am creating a Jupiter Notebook that contains markdown cells. This notebook is about the Data Science Tools and Ecosystem."
   ]
  },
  {
   "cell_type": "markdown",
   "id": "54678a9e-3eb4-43b1-b49f-6bd1cbd74b63",
   "metadata": {},
   "source": [
    "### List of Data Scrince Languages\n",
    "* Python\n",
    "* R"
   ]
  },
  {
   "cell_type": "markdown",
   "id": "1059e163-cc65-4c9c-8093-62286c422889",
   "metadata": {},
   "source": [
    "### List of Data Science Libraries\n",
    "- Pandas\n",
    "- NumPy\n",
    "- Scikit-learn\n",
    "- Matplotlib"
   ]
  },
  {
   "cell_type": "markdown",
   "id": "38c609d3-ba2b-4650-87ea-942a0c34d0c2",
   "metadata": {},
   "source": [
    "### Data Science Tools\n",
    "1. Keras\n",
    "2. Apache Spart\n",
    "3. TensorFlow"
   ]
  },
  {
   "cell_type": "markdown",
   "id": "358d9847-d4ca-4620-b274-0179405f7e4f",
   "metadata": {},
   "source": [
    "### Arithemetic Operation Examples"
   ]
  },
  {
   "cell_type": "code",
   "execution_count": 5,
   "id": "2dfbf5cf-5d65-459c-bbb0-a05a7cf3919d",
   "metadata": {},
   "outputs": [
    {
     "data": {
      "text/plain": [
       "17"
      ]
     },
     "execution_count": 5,
     "metadata": {},
     "output_type": "execute_result"
    }
   ],
   "source": [
    "(4*3)+5"
   ]
  },
  {
   "cell_type": "markdown",
   "id": "2290a508-1d72-4d29-9214-2f8b628c4825",
   "metadata": {},
   "source": [
    "### Convert Minutes to Hours"
   ]
  },
  {
   "cell_type": "code",
   "execution_count": 6,
   "id": "cc060643-2dcf-44eb-aaa3-7add0f0b22f3",
   "metadata": {},
   "outputs": [
    {
     "name": "stdout",
     "output_type": "stream",
     "text": [
      "360 minutes is equal to 6.0 hours\n"
     ]
    }
   ],
   "source": [
    "minutes = 360\n",
    "hours = minutes / 60\n",
    "print(f\"{minutes} minutes is equal to {hours} hours\")"
   ]
  },
  {
   "cell_type": "markdown",
   "id": "421550db-766e-4560-8dd2-1cd93f4a06c1",
   "metadata": {},
   "source": [
    "## List of Objectives\n",
    "- Learning DS\n",
    "- Learning AI\n",
    "- Differrent approach for same problem "
   ]
  },
  {
   "cell_type": "markdown",
   "id": "7cf8ab79-df52-4c24-9270-80fd4d545918",
   "metadata": {},
   "source": [
    "## Author's Name\n",
    "#### Keshari Nandan"
   ]
  },
  {
   "cell_type": "code",
   "execution_count": null,
   "id": "b0d3e6ea-71f3-49f8-bce6-5ae750d5e549",
   "metadata": {},
   "outputs": [],
   "source": []
  }
 ],
 "metadata": {
  "kernelspec": {
   "display_name": "Python 3 (ipykernel)",
   "language": "python",
   "name": "python3"
  },
  "language_info": {
   "codemirror_mode": {
    "name": "ipython",
    "version": 3
   },
   "file_extension": ".py",
   "mimetype": "text/x-python",
   "name": "python",
   "nbconvert_exporter": "python",
   "pygments_lexer": "ipython3",
   "version": "3.12.8"
  }
 },
 "nbformat": 4,
 "nbformat_minor": 5
}
